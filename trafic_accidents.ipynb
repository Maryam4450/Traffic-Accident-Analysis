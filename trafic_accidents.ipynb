{
 "cells": [
  {
   "cell_type": "markdown",
   "id": "38e0a532",
   "metadata": {},
   "source": [
    "# Introduction to Data Science Project\n",
    "-----------------------------------------------------------------------"
   ]
  },
  {
   "cell_type": "code",
   "execution_count": null,
   "id": "a73f13d1",
   "metadata": {},
   "outputs": [],
   "source": [
    "import pandas as pd\n",
    "import numpy as np\n",
    "import seaborn as sns\n",
    "import matplotlib.pyplot as plt"
   ]
  },
  {
   "cell_type": "code",
   "execution_count": null,
   "id": "432417c2",
   "metadata": {},
   "outputs": [],
   "source": [
    "df = pd.read_csv(\"traffic_accidents.csv\")\n",
    "df.head(2)\n",
    "#print(\"\\nDataset Info:\")\n",
    "#print(df.info())"
   ]
  },
  {
   "cell_type": "markdown",
   "id": "6eec83e4",
   "metadata": {},
   "source": [
    "## Step 2:  Exploratory Data Analysis (EDA)"
   ]
  },
  {
   "cell_type": "markdown",
   "id": "977650a2",
   "metadata": {},
   "source": [
    "### i) Missing Value Analysis"
   ]
  },
  {
   "cell_type": "code",
   "execution_count": null,
   "id": "12dbf545",
   "metadata": {},
   "outputs": [],
   "source": [
    "# Missing Value Analysis\n",
    "missing_values = df.isnull().sum()\n",
    "print('Missing Value Analysis')\n",
    "missing_values"
   ]
  },
  {
   "cell_type": "code",
   "execution_count": null,
   "id": "70816861",
   "metadata": {},
   "outputs": [],
   "source": [
    "# to remove duplicates\n",
    "df.drop_duplicates(inplace=True)"
   ]
  },
  {
   "cell_type": "markdown",
   "id": "72657bc5",
   "metadata": {},
   "source": [
    "\n",
    "### ii) Summary Statistics (mean, median, mode, etc.)\n"
   ]
  },
  {
   "cell_type": "code",
   "execution_count": null,
   "id": "7a11bbf9",
   "metadata": {},
   "outputs": [],
   "source": [
    "numerical_stats = df.select_dtypes(include=['int64', 'float64']).describe()\n",
    "print(\"Summary Statistics for Numerical Features:\")\n",
    "print(numerical_stats)\n"
   ]
  },
  {
   "cell_type": "code",
   "execution_count": null,
   "id": "d4c3673e",
   "metadata": {},
   "outputs": [],
   "source": [
    "# Mode for categorical columns\n",
    "categorical_cols = df.select_dtypes(include=['object']).columns\n",
    "print(\"\\nMode for Categorical Features:\")\n",
    "for col in categorical_cols:\n",
    "    print(f\"{col}: {df[col].mode()[0]}\")"
   ]
  },
  {
   "cell_type": "markdown",
   "id": "3724d4a4",
   "metadata": {},
   "source": [
    "### iii) Visualiztaion"
   ]
  },
  {
   "cell_type": "code",
   "execution_count": null,
   "id": "8150148d",
   "metadata": {},
   "outputs": [],
   "source": [
    "# Histogram for numerical features\n",
    "df.select_dtypes(include=['int64', 'float64']).hist(figsize=(12, 8))\n",
    "plt.tight_layout()\n",
    "#plt.savefig('numerical_histograms.png')\n",
    "plt.show()\n"
   ]
  },
  {
   "cell_type": "markdown",
   "id": "dff915b2",
   "metadata": {},
   "source": [
    "### iv) Correlation Analysis"
   ]
  },
  {
   "cell_type": "code",
   "execution_count": null,
   "id": "c535c2a0",
   "metadata": {},
   "outputs": [],
   "source": [
    "\n",
    "#Correlation Analysis\n",
    "numerical_cols = df.select_dtypes(include=['int64', 'float64']).columns\n",
    "correlation_matrix = df[numerical_cols].corr()\n",
    "plt.figure(figsize=(10, 8))\n",
    "sns.heatmap(correlation_matrix, annot=True, cmap='coolwarm', fmt='.2f')\n",
    "plt.title('Correlation Matrix of Numerical Features')\n",
    "#plt.savefig('correlation_matrix.png')\n",
    "plt.show()\n",
    "plt.close()\n"
   ]
  },
  {
   "cell_type": "markdown",
   "id": "f3143de6",
   "metadata": {},
   "source": [
    "### v) Outlier Detection"
   ]
  },
  {
   "cell_type": "code",
   "execution_count": null,
   "id": "c89f24b6",
   "metadata": {},
   "outputs": [],
   "source": [
    "sns.boxplot(data=df[['injuries_total', 'injuries_fatal']])\n",
    "plt.title(\"Outlier Detection\")\n",
    "plt.show()\n"
   ]
  },
  {
   "cell_type": "markdown",
   "id": "15752e1a",
   "metadata": {},
   "source": [
    "### vi)  Feature Distribution Analysis"
   ]
  },
  {
   "cell_type": "code",
   "execution_count": null,
   "id": "df6fb3c2",
   "metadata": {},
   "outputs": [],
   "source": [
    "df['crash_hour'].hist(bins=24)\n",
    "plt.title(\"Crashes by Hour of Day\")\n",
    "plt.xlabel(\"Hour\")\n",
    "plt.ylabel(\"Frequency\")\n",
    "plt.show()"
   ]
  },
  {
   "cell_type": "markdown",
   "id": "07e54180",
   "metadata": {},
   "source": [
    "### vii) Data Types and Unique Value Counts"
   ]
  },
  {
   "cell_type": "code",
   "execution_count": null,
   "id": "5c67631f",
   "metadata": {},
   "outputs": [],
   "source": [
    "#Data Types\n",
    "df.dtypes"
   ]
  },
  {
   "cell_type": "code",
   "execution_count": null,
   "id": "7ff26e8b",
   "metadata": {},
   "outputs": [],
   "source": [
    "#Unique Value Counts\n",
    "df.nunique()"
   ]
  },
  {
   "cell_type": "markdown",
   "id": "6674b9e7",
   "metadata": {},
   "source": [
    "### viii) Trend Analysis"
   ]
  },
  {
   "cell_type": "code",
   "execution_count": null,
   "id": "fa3d8c62",
   "metadata": {},
   "outputs": [],
   "source": [
    "df['crash_date'] = pd.to_datetime(df['crash_date'], errors='coerce')\n",
    "df['crash_date'].dt.date.value_counts().sort_index().plot()\n",
    "plt.title(\"Crashes Over Time\")\n",
    "plt.xlabel(\"Date\")\n",
    "plt.ylabel(\"Number of Crashes\")\n",
    "plt.show()"
   ]
  },
  {
   "cell_type": "markdown",
   "id": "5e4de131",
   "metadata": {},
   "source": [
    "### ix) Grouped Aggregations"
   ]
  },
  {
   "cell_type": "code",
   "execution_count": null,
   "id": "5ff9c5c9",
   "metadata": {},
   "outputs": [],
   "source": [
    "df.groupby('weather_condition')['injuries_total'].mean().sort_values().plot(kind='barh')\n",
    "plt.title(\"Avg Injuries by Weather Condition\")\n",
    "plt.show()"
   ]
  },
  {
   "cell_type": "markdown",
   "id": "6948c505",
   "metadata": {},
   "source": [
    "### x) Pairwise Feature Relationships"
   ]
  },
  {
   "cell_type": "code",
   "execution_count": null,
   "id": "00407b40",
   "metadata": {},
   "outputs": [],
   "source": [
    "sns.pairplot(df[['injuries_total', 'injuries_fatal', 'num_units']])"
   ]
  },
  {
   "cell_type": "markdown",
   "id": "ea370dac",
   "metadata": {},
   "source": [
    "### xi) Other Relevant Analyses "
   ]
  },
  {
   "cell_type": "code",
   "execution_count": null,
   "id": "b0e019a9",
   "metadata": {},
   "outputs": [],
   "source": [
    "x_axis = 'crash_hour'\n",
    "stack_by = 'trafficway_type'\n",
    "\n",
    "# Filter to top 5 most common trafficway types\n",
    "top_categories = df[stack_by].value_counts().index[:5]\n",
    "df_filtered = df[df[stack_by].isin(top_categories)]\n",
    "\n",
    "# Split into AM and PM data\n",
    "df_am = df_filtered[df_filtered[x_axis] < 12]\n",
    "df_pm = df_filtered[df_filtered[x_axis] >= 12]\n",
    "\n",
    "# Creating pivot tables for stacked bar charts\n",
    "pivot_am = df_am.pivot_table(index=x_axis, columns=stack_by, aggfunc='size', fill_value=0)\n",
    "pivot_pm = df_pm.pivot_table(index=x_axis, columns=stack_by, aggfunc='size', fill_value=0)\n",
    "\n",
    "\n",
    "fig, axes = plt.subplots(1, 2, figsize=(20, 7))\n",
    "\n",
    "# AM chart\n",
    "pivot_am.plot(kind='bar', stacked=True, cmap='Blues', ax=axes[0])\n",
    "axes[0].set_title('AM Accidents by Hour and Trafficway Type')\n",
    "axes[0].set_xlabel('Hour (0–11)')\n",
    "axes[0].set_ylabel('Accident Count')\n",
    "axes[0].tick_params(axis='x', rotation=0)\n",
    "axes[0].legend(title='Trafficway Type', loc='upper left')\n",
    "\n",
    "# PM chart\n",
    "pivot_pm.plot(kind='bar', stacked=True, cmap='Oranges', ax=axes[1])\n",
    "axes[1].set_title('PM Accidents by Hour and Trafficway Type')\n",
    "axes[1].set_xlabel('Hour (12–23)')\n",
    "axes[1].set_ylabel('Accident Count')\n",
    "axes[1].tick_params(axis='x', rotation=0)\n",
    "axes[1].legend(title='Trafficway Type', loc='upper right')\n",
    "\n",
    "\n",
    "plt.tight_layout()\n",
    "plt.show()\n"
   ]
  },
  {
   "cell_type": "code",
   "execution_count": null,
   "id": "f4d970e4",
   "metadata": {},
   "outputs": [],
   "source": [
    "# pie chart for top 5 Crash types\n",
    "plt.figure(figsize=(4, 6))\n",
    "df['first_crash_type'].value_counts().head(5).plot(kind='pie', autopct='%1.1f%%')\n",
    "plt.title('Top 5 crash type in Accidents')\n",
    "#plt.savefig('crash_piechart.png')\n",
    "plt.show()\n",
    "plt.close()"
   ]
  },
  {
   "cell_type": "code",
   "execution_count": null,
   "id": "faa819e7",
   "metadata": {},
   "outputs": [],
   "source": [
    "# Comparing number of units involved and total injuries\n",
    "plt.scatter(df['crash_hour'], df['injuries_total'], color='orange', alpha=0.6)\n",
    "plt.xlabel('Crash Hour')\n",
    "plt.ylabel('Total Injuries')\n",
    "plt.title('Scatter Plot: Crash Hour vs Total Injuries')\n",
    "plt.grid(True)\n",
    "plt.show()\n"
   ]
  },
  {
   "cell_type": "code",
   "execution_count": null,
   "id": "bef600f0",
   "metadata": {},
   "outputs": [],
   "source": [
    "#Average Injuries by Lighting Condition\n",
    "avg_injuries_by_light = df.groupby('lighting_condition')['injuries_total'].mean().sort_values()\n",
    "plt.figure(figsize=(10, 6))\n",
    "avg_injuries_by_light.plot(kind='barh', color='skyblue')\n",
    "plt.xlabel(\"Average Injuries\")\n",
    "plt.title(\"Average Injuries by Lighting Condition\")\n",
    "plt.grid(axis='x', linestyle='--', alpha=0.7)\n",
    "plt.tight_layout()\n",
    "plt.show()"
   ]
  },
  {
   "cell_type": "code",
   "execution_count": null,
   "id": "be3cccfd",
   "metadata": {},
   "outputs": [],
   "source": [
    "#Distribution of Injuries by Weather Condition\n",
    "plt.figure(figsize=(12, 6))\n",
    "sns.violinplot(x='weather_condition', y='injuries_total', data=df, inner='quartile', palette='Set3')\n",
    "plt.xticks(rotation=45)\n",
    "plt.title(\"Distribution of Injuries by Weather Condition (Violin Plot)\")\n",
    "plt.xlabel(\"Weather Condition\")\n",
    "plt.ylabel(\"Injuries Total\")\n",
    "plt.tight_layout()\n",
    "plt.show()"
   ]
  },
  {
   "cell_type": "markdown",
   "id": "4192f5ec",
   "metadata": {},
   "source": [
    "-----------------------------------------------\n"
   ]
  },
  {
   "cell_type": "markdown",
   "id": "77aecd9b",
   "metadata": {},
   "source": [
    "\n",
    "##  Step 3: Data Preprocessing"
   ]
  },
  {
   "cell_type": "markdown",
   "id": "51cf881e",
   "metadata": {},
   "source": [
    "### i) Handle Missing Values"
   ]
  },
  {
   "cell_type": "code",
   "execution_count": null,
   "id": "f0371991",
   "metadata": {},
   "outputs": [],
   "source": [
    "df = pd.read_csv(\"traffic_accidents.csv\")\n",
    "df.head(2)\n",
    "df.drop_duplicates(inplace=True)\n",
    "df.dropna()"
   ]
  },
  {
   "cell_type": "markdown",
   "id": "7531185a",
   "metadata": {},
   "source": [
    "### ii) Encode Categorical Variables"
   ]
  },
  {
   "cell_type": "code",
   "execution_count": null,
   "id": "5a55d689",
   "metadata": {},
   "outputs": [],
   "source": [
    "from sklearn.preprocessing import LabelEncoder\n",
    "# Extract suffix from crash_type\n",
    "df['crash_type'] = df['crash_type'].str.split('/').str[-1].str.strip()\n",
    "\n",
    "df1 = df.drop(['crash_date','injuries_fatal', 'injuries_incapacitating', \n",
    "              'injuries_non_incapacitating', 'injuries_reported_not_evident','injuries_no_indication'], axis=1)\n",
    "label_encoders = {}\n",
    "cat_cols = df1.select_dtypes(include=['object']).columns\n",
    "for col in cat_cols:\n",
    "    le = LabelEncoder()\n",
    "    df1[col] = le.fit_transform(df1[col].astype(str))\n",
    "    label_encoders[col] = le \n",
    "df1"
   ]
  },
  {
   "cell_type": "markdown",
   "id": "2b0b00e4",
   "metadata": {},
   "source": [
    "### iii) Normalize/Scale Numerical Features"
   ]
  },
  {
   "cell_type": "code",
   "execution_count": null,
   "id": "aa6d6962",
   "metadata": {},
   "outputs": [],
   "source": [
    "from sklearn.preprocessing import StandardScaler\n",
    "\n",
    "num_cols = df1.select_dtypes(include=['int64', 'float64']).columns.tolist()\n",
    "num_cols.remove('injuries_total')  \n",
    "scaler = StandardScaler()\n",
    "df1[num_cols] = scaler.fit_transform(df1[num_cols])\n",
    "df1"
   ]
  },
  {
   "cell_type": "markdown",
   "id": "da855690",
   "metadata": {},
   "source": [
    "### iv)  Split Into Train/Test"
   ]
  },
  {
   "cell_type": "code",
   "execution_count": null,
   "id": "4afa68f1",
   "metadata": {},
   "outputs": [],
   "source": [
    "from sklearn.model_selection import train_test_split\n",
    "\n",
    "X = df1.drop('injuries_total', axis=1)\n",
    "y = df1['injuries_total']\n",
    "X_train, X_test, y_train, y_test = train_test_split(X, y, test_size=0.3, random_state=49)\n",
    "\n"
   ]
  },
  {
   "cell_type": "markdown",
   "id": "72c7b7f1",
   "metadata": {},
   "source": [
    "-----------------------------------------------------------------------------------------------"
   ]
  },
  {
   "cell_type": "markdown",
   "id": "29aee91b",
   "metadata": {},
   "source": [
    "# Step 4: Machine Learning Model"
   ]
  },
  {
   "cell_type": "code",
   "execution_count": null,
   "id": "5388e6ce",
   "metadata": {},
   "outputs": [],
   "source": [
    "from sklearn.ensemble import RandomForestRegressor\n",
    "from sklearn.metrics import mean_squared_error, r2_score\n",
    "\n",
    "model = RandomForestRegressor(n_estimators=100, random_state=42)\n",
    "model.fit(X_train, y_train)\n",
    "\n",
    "# Evaluate\n",
    "y_pred = model.predict(X_test)\n",
    "rmse = np.sqrt(mean_squared_error(y_test, y_pred))\n",
    "r2 = r2_score(y_test, y_pred)\n",
    "print(f\"RMSE: {rmse}\")\n",
    "print(f\"R2 Score: {r2}\")\n"
   ]
  }
 ],
 "metadata": {
  "kernelspec": {
   "display_name": "Python 3",
   "language": "python",
   "name": "python3"
  },
  "language_info": {
   "codemirror_mode": {
    "name": "ipython",
    "version": 3
   },
   "file_extension": ".py",
   "mimetype": "text/x-python",
   "name": "python",
   "nbconvert_exporter": "python",
   "pygments_lexer": "ipython3",
   "version": "3.13.1"
  }
 },
 "nbformat": 4,
 "nbformat_minor": 5
}
